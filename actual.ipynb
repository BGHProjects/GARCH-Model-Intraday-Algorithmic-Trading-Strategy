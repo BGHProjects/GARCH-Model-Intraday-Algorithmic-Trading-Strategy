{
 "cells": [
  {
   "cell_type": "markdown",
   "metadata": {},
   "source": [
    "# GARCH Model Intraday Algorithmic Trading Strategy\n",
    "- The following presents an algorithmic trader strategy that involves applying daily and 5-minute intraday trading data to fit a GARCH Model in order to calculate volatility, prediction premium, and ultimately generate a position and final strategy returns\n",
    "- This notebook does not constitute financial advice, and is merely the educational exploration of the fields of algorithmic trading and machine learning\n",
    "- The code contains very minor refactoring, but is majoritively based off of [this notebook](https://github.com/Luchkata/Algorithmic_Trading_Machine_Learning/blob/main/Algorithmic_Trading_Machine_Learning_Quant_Strategies.ipynb) from [this tutorial](https://www.youtube.com/watch?v=9Y3yaoi9rUQ)"
   ]
  },
  {
   "cell_type": "code",
   "execution_count": null,
   "metadata": {},
   "outputs": [],
   "source": [
    "import matplotlib.pyplot as plt\n",
    "import matplotlib.ticker as mtick\n",
    "from arch import arch_model\n",
    "import pandas_ta\n",
    "import pandas as pd\n",
    "import numpy as np\n",
    "import os"
   ]
  },
  {
   "cell_type": "markdown",
   "metadata": {},
   "source": [
    "# 1. Load Simulated Daily and Simulated 5-minute data"
   ]
  },
  {
   "cell_type": "code",
   "execution_count": null,
   "metadata": {},
   "outputs": [],
   "source": [
    "data_folder = 'C:/Users/user/Desktop/Python Scripts' # Not reflective of actual file storage\n",
    "\n",
    "daily_df = pd.read_csv(os.path.join(data_folder, 'simulated_daily_data.csv'))\n",
    "\n",
    "daily_df = daily_df.drop('Unnamed: 7', axis=1)\n",
    "\n",
    "daily_df['Date'] = pd.to_datetime(daily_df['Date'])\n",
    "\n",
    "daily_df = daily_df.set_index('Date')\n",
    "\n",
    "\n",
    "intraday_5min_df = pd.read_csv(os.path.join(data_folder, 'simulated_5min_data.csv'))\n",
    "\n",
    "intraday_5min_df = intraday_5min_df.drop('Unnamed: 6', axis=1)\n",
    "\n",
    "intraday_5min_df['datetime'] = pd.to_datetime(intraday_5min_df['datetime'])\n",
    "\n",
    "intraday_5min_df = intraday_5min_df.set_index('datetime')\n",
    "\n",
    "intraday_5min_df['date'] = pd.to_datetime(intraday_5min_df.index.date)"
   ]
  },
  {
   "cell_type": "markdown",
   "metadata": {},
   "source": [
    "# 2. Define function to fit GARCH model and predict 1-day ahead volatility in a rolling window\n",
    "A 6 month rolling variance is initially calculated, then a function is made for a 6-month rolling window in order to fit the GARCH model, to then predict the next day variance"
   ]
  },
  {
   "cell_type": "code",
   "execution_count": null,
   "metadata": {},
   "outputs": [],
   "source": [
    "daily_df['log_ret'] = np.log(daily_df['Adj Close']).diff()\n",
    "\n",
    "daily_df['variance'] = daily_df['log_ret'].rolling(180).var()\n",
    "\n",
    "daily_df = daily_df['2020':]\n",
    "\n",
    "def predict_volatility(x):\n",
    "    \n",
    "    best_model = arch_model(y=x,\n",
    "                            p=1,\n",
    "                            q=3).fit(update_freq=5,\n",
    "                                     disp='off')\n",
    "    \n",
    "    variance_forecast = best_model.forecast(horizon=1).variance.iloc[-1,0]\n",
    "\n",
    "    print(x.index[-1])\n",
    "    \n",
    "    return variance_forecast\n",
    "\n",
    "daily_df['predictions'] = daily_df['log_ret'].rolling(180).apply(lambda x: predict_volatility(x))\n",
    "\n",
    "daily_df = daily_df.dropna()"
   ]
  },
  {
   "cell_type": "markdown",
   "metadata": {},
   "source": [
    "# 3. Calculate prediction premium and form a daily signal from it"
   ]
  },
  {
   "cell_type": "code",
   "execution_count": null,
   "metadata": {},
   "outputs": [],
   "source": [
    "daily_df['prediction_premium'] = (daily_df['predictions']-daily_df['variance'])/daily_df['variance']\n",
    "\n",
    "daily_df['premium_std'] = daily_df['prediction_premium'].rolling(180).std()\n",
    "\n",
    "daily_df['signal_daily'] = daily_df.apply(lambda x: 1 if (x['prediction_premium']>x['premium_std'])\n",
    "                                         else (-1 if (x['prediction_premium']<x['premium_std']*-1) else np.nan),\n",
    "                                         axis=1)\n",
    "\n",
    "daily_df['signal_daily'] = daily_df['signal_daily'].shift()"
   ]
  },
  {
   "cell_type": "code",
   "execution_count": null,
   "metadata": {},
   "outputs": [],
   "source": [
    "plt.style.use('ggplot')\n",
    "\n",
    "daily_df['signal_daily'].plot(kind='hist')\n",
    "\n",
    "plt.show()"
   ]
  },
  {
   "cell_type": "markdown",
   "metadata": {},
   "source": [
    "# 4. Merge with intraday data and calculate intraday indicators to form the intraday signal"
   ]
  },
  {
   "cell_type": "code",
   "execution_count": null,
   "metadata": {},
   "outputs": [],
   "source": [
    "final_df = intraday_5min_df.reset_index()\\\n",
    "                            .merge(daily_df[['signal_daily']].reset_index(),\n",
    "                                   left_on='date',\n",
    "                                   right_on='Date')\\\n",
    "                            .drop(['date','Date'], axis=1)\\\n",
    "                            .set_index('datetime')\n",
    "\n",
    "final_df['rsi'] = pandas_ta.rsi(close=final_df['close'],\n",
    "                                length=20)\n",
    "\n",
    "final_df['lband'] = pandas_ta.bbands(close=final_df['close'],\n",
    "                                     length=20).iloc[:,0]\n",
    "\n",
    "final_df['uband'] = pandas_ta.bbands(close=final_df['close'],\n",
    "                                     length=20).iloc[:,2]\n",
    "\n",
    "final_df['signal_intraday'] = final_df.apply(lambda x: 1 if (x['rsi']>70)&\n",
    "                                                            (x['close']>x['uband'])\n",
    "                                             else (-1 if (x['rsi']<30)&\n",
    "                                                         (x['close']<x['lband']) else np.nan),\n",
    "                                             axis=1)\n",
    "\n",
    "final_df['return'] = np.log(final_df['close']).diff()\n"
   ]
  },
  {
   "cell_type": "markdown",
   "metadata": {},
   "source": [
    "# 5. Generate the position entry and hold until the end of the day"
   ]
  },
  {
   "cell_type": "code",
   "execution_count": null,
   "metadata": {},
   "outputs": [],
   "source": [
    "final_df['return_sign'] = final_df.apply(lambda x: -1 if (x['signal_daily']==1)&(x['signal_intraday']==1)\n",
    "                                        else (1 if (x['signal_daily']==-1)&(x['signal_intraday']==-1) else np.nan),\n",
    "                                        axis=1)\n",
    "\n",
    "final_df['return_sign'] = final_df.groupby(pd.Grouper(freq='D'))['return_sign']\\\n",
    "                                  .transform(lambda x: x.ffill())\n",
    "\n",
    "final_df['forward_return'] = final_df['return'].shift(-1)\n",
    "\n",
    "final_df['strategy_return'] = final_df['forward_return']*final_df['return_sign']\n",
    "\n",
    "daily_return_df = final_df.groupby(pd.Grouper(freq='D'))['strategy_return'].sum()"
   ]
  },
  {
   "cell_type": "markdown",
   "metadata": {},
   "source": [
    "# 6. Calculate final strategy returns"
   ]
  },
  {
   "cell_type": "code",
   "execution_count": null,
   "metadata": {},
   "outputs": [],
   "source": [
    "strategy_cumulative_return = np.exp(np.log1p(daily_return_df).cumsum()).sub(1)\n",
    "\n",
    "strategy_cumulative_return.plot(figsize=(16,6))\n",
    "\n",
    "plt.title('Intraday Strategy Returns')\n",
    "\n",
    "plt.gca().yaxis.set_major_formatter(mtick.PercentFormatter(1))\n",
    "\n",
    "plt.ylabel('Return')\n",
    "\n",
    "plt.show()"
   ]
  }
 ],
 "metadata": {
  "language_info": {
   "name": "python"
  }
 },
 "nbformat": 4,
 "nbformat_minor": 2
}
